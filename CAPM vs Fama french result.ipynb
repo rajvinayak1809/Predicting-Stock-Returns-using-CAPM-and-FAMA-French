{
 "cells": [
  {
   "cell_type": "code",
   "execution_count": 1,
   "id": "e02cb04f",
   "metadata": {},
   "outputs": [],
   "source": [
    "import numpy as np\n",
    "import pandas as pd\n",
    "import pandas_datareader as web\n",
    "import datetime\n",
    "from scipy import stats\n",
    "import matplotlib.pyplot as plt\n",
    "%matplotlib inline"
   ]
  },
  {
   "cell_type": "code",
   "execution_count": 2,
   "id": "73fa6dd0",
   "metadata": {},
   "outputs": [],
   "source": [
    "start = datetime.date(2021, 1, 1)\n",
    "end = datetime.date(2022, 1, 1)"
   ]
  },
  {
   "cell_type": "code",
   "execution_count": 3,
   "id": "41c38cd1",
   "metadata": {},
   "outputs": [],
   "source": [
    "df1= web.DataReader('BAJAJ-AUTO.NS','yahoo', start, end)\n",
    "df2= web.DataReader('^NSEI','yahoo', start, end)"
   ]
  },
  {
   "cell_type": "code",
   "execution_count": 4,
   "id": "29d8214c",
   "metadata": {},
   "outputs": [
    {
     "data": {
      "text/html": [
       "<div>\n",
       "<style scoped>\n",
       "    .dataframe tbody tr th:only-of-type {\n",
       "        vertical-align: middle;\n",
       "    }\n",
       "\n",
       "    .dataframe tbody tr th {\n",
       "        vertical-align: top;\n",
       "    }\n",
       "\n",
       "    .dataframe thead th {\n",
       "        text-align: right;\n",
       "    }\n",
       "</style>\n",
       "<table border=\"1\" class=\"dataframe\">\n",
       "  <thead>\n",
       "    <tr style=\"text-align: right;\">\n",
       "      <th></th>\n",
       "      <th>High</th>\n",
       "      <th>Low</th>\n",
       "      <th>Open</th>\n",
       "      <th>Close</th>\n",
       "      <th>Volume</th>\n",
       "      <th>Adj Close</th>\n",
       "    </tr>\n",
       "    <tr>\n",
       "      <th>Date</th>\n",
       "      <th></th>\n",
       "      <th></th>\n",
       "      <th></th>\n",
       "      <th></th>\n",
       "      <th></th>\n",
       "      <th></th>\n",
       "    </tr>\n",
       "  </thead>\n",
       "  <tbody>\n",
       "    <tr>\n",
       "      <th>2021-01-01</th>\n",
       "      <td>3494.000000</td>\n",
       "      <td>3446.000000</td>\n",
       "      <td>3446.000000</td>\n",
       "      <td>3481.250000</td>\n",
       "      <td>421643.0</td>\n",
       "      <td>3243.078613</td>\n",
       "    </tr>\n",
       "    <tr>\n",
       "      <th>2021-01-04</th>\n",
       "      <td>3528.000000</td>\n",
       "      <td>3465.000000</td>\n",
       "      <td>3490.000000</td>\n",
       "      <td>3522.449951</td>\n",
       "      <td>647829.0</td>\n",
       "      <td>3281.459961</td>\n",
       "    </tr>\n",
       "    <tr>\n",
       "      <th>2021-01-05</th>\n",
       "      <td>3505.000000</td>\n",
       "      <td>3475.000000</td>\n",
       "      <td>3500.250000</td>\n",
       "      <td>3492.649902</td>\n",
       "      <td>561562.0</td>\n",
       "      <td>3253.698730</td>\n",
       "    </tr>\n",
       "    <tr>\n",
       "      <th>2021-01-06</th>\n",
       "      <td>3527.000000</td>\n",
       "      <td>3435.899902</td>\n",
       "      <td>3492.649902</td>\n",
       "      <td>3462.699951</td>\n",
       "      <td>591620.0</td>\n",
       "      <td>3225.797852</td>\n",
       "    </tr>\n",
       "    <tr>\n",
       "      <th>2021-01-07</th>\n",
       "      <td>3507.350098</td>\n",
       "      <td>3428.250000</td>\n",
       "      <td>3500.000000</td>\n",
       "      <td>3437.949951</td>\n",
       "      <td>531361.0</td>\n",
       "      <td>3202.741211</td>\n",
       "    </tr>\n",
       "  </tbody>\n",
       "</table>\n",
       "</div>"
      ],
      "text/plain": [
       "                   High          Low         Open        Close    Volume  \\\n",
       "Date                                                                       \n",
       "2021-01-01  3494.000000  3446.000000  3446.000000  3481.250000  421643.0   \n",
       "2021-01-04  3528.000000  3465.000000  3490.000000  3522.449951  647829.0   \n",
       "2021-01-05  3505.000000  3475.000000  3500.250000  3492.649902  561562.0   \n",
       "2021-01-06  3527.000000  3435.899902  3492.649902  3462.699951  591620.0   \n",
       "2021-01-07  3507.350098  3428.250000  3500.000000  3437.949951  531361.0   \n",
       "\n",
       "              Adj Close  \n",
       "Date                     \n",
       "2021-01-01  3243.078613  \n",
       "2021-01-04  3281.459961  \n",
       "2021-01-05  3253.698730  \n",
       "2021-01-06  3225.797852  \n",
       "2021-01-07  3202.741211  "
      ]
     },
     "execution_count": 4,
     "metadata": {},
     "output_type": "execute_result"
    }
   ],
   "source": [
    "df1.head()"
   ]
  },
  {
   "cell_type": "code",
   "execution_count": 5,
   "id": "eda1e63b",
   "metadata": {},
   "outputs": [
    {
     "data": {
      "text/plain": [
       "<matplotlib.legend.Legend at 0x2643deab0a0>"
      ]
     },
     "execution_count": 5,
     "metadata": {},
     "output_type": "execute_result"
    },
    {
     "data": {
      "image/png": "[encoded data removed]",
      "text/plain": [
       "<Figure size 720x576 with 1 Axes>"
      ]
     },
     "metadata": {
      "needs_background": "light"
     },
     "output_type": "display_data"
    }
   ],
   "source": [
    "df1['Close'].plot(label='Bajaj', figsize=(10, 8))\n",
    "df2['Close'].plot(label='Nifty')\n",
    "plt.legend()"
   ]
  },
  {
   "cell_type": "code",
   "execution_count": 6,
   "id": "70ee3e0a",
   "metadata": {},
   "outputs": [],
   "source": [
    "df1['Cumu'] = df1['Close']/df1['Close'].iloc[0]\n",
    "df2['Cumu'] = df2['Close']/df2['Close'].iloc[0]"
   ]
  },
  {
   "cell_type": "code",
   "execution_count": 7,
   "id": "6aafd662",
   "metadata": {},
   "outputs": [
    {
     "data": {
      "text/html": [
       "<div>\n",
       "<style scoped>\n",
       "    .dataframe tbody tr th:only-of-type {\n",
       "        vertical-align: middle;\n",
       "    }\n",
       "\n",
       "    .dataframe tbody tr th {\n",
       "        vertical-align: top;\n",
       "    }\n",
       "\n",
       "    .dataframe thead th {\n",
       "        text-align: right;\n",
       "    }\n",
       "</style>\n",
       "<table border=\"1\" class=\"dataframe\">\n",
       "  <thead>\n",
       "    <tr style=\"text-align: right;\">\n",
       "      <th></th>\n",
       "      <th>High</th>\n",
       "      <th>Low</th>\n",
       "      <th>Open</th>\n",
       "      <th>Close</th>\n",
       "      <th>Volume</th>\n",
       "      <th>Adj Close</th>\n",
       "      <th>Cumu</th>\n",
       "    </tr>\n",
       "    <tr>\n",
       "      <th>Date</th>\n",
       "      <th></th>\n",
       "      <th></th>\n",
       "      <th></th>\n",
       "      <th></th>\n",
       "      <th></th>\n",
       "      <th></th>\n",
       "      <th></th>\n",
       "    </tr>\n",
       "  </thead>\n",
       "  <tbody>\n",
       "    <tr>\n",
       "      <th>2021-01-01</th>\n",
       "      <td>3494.000000</td>\n",
       "      <td>3446.000000</td>\n",
       "      <td>3446.000000</td>\n",
       "      <td>3481.250000</td>\n",
       "      <td>421643.0</td>\n",
       "      <td>3243.078613</td>\n",
       "      <td>1.000000</td>\n",
       "    </tr>\n",
       "    <tr>\n",
       "      <th>2021-01-04</th>\n",
       "      <td>3528.000000</td>\n",
       "      <td>3465.000000</td>\n",
       "      <td>3490.000000</td>\n",
       "      <td>3522.449951</td>\n",
       "      <td>647829.0</td>\n",
       "      <td>3281.459961</td>\n",
       "      <td>1.011835</td>\n",
       "    </tr>\n",
       "    <tr>\n",
       "      <th>2021-01-05</th>\n",
       "      <td>3505.000000</td>\n",
       "      <td>3475.000000</td>\n",
       "      <td>3500.250000</td>\n",
       "      <td>3492.649902</td>\n",
       "      <td>561562.0</td>\n",
       "      <td>3253.698730</td>\n",
       "      <td>1.003275</td>\n",
       "    </tr>\n",
       "    <tr>\n",
       "      <th>2021-01-06</th>\n",
       "      <td>3527.000000</td>\n",
       "      <td>3435.899902</td>\n",
       "      <td>3492.649902</td>\n",
       "      <td>3462.699951</td>\n",
       "      <td>591620.0</td>\n",
       "      <td>3225.797852</td>\n",
       "      <td>0.994671</td>\n",
       "    </tr>\n",
       "    <tr>\n",
       "      <th>2021-01-07</th>\n",
       "      <td>3507.350098</td>\n",
       "      <td>3428.250000</td>\n",
       "      <td>3500.000000</td>\n",
       "      <td>3437.949951</td>\n",
       "      <td>531361.0</td>\n",
       "      <td>3202.741211</td>\n",
       "      <td>0.987562</td>\n",
       "    </tr>\n",
       "    <tr>\n",
       "      <th>...</th>\n",
       "      <td>...</td>\n",
       "      <td>...</td>\n",
       "      <td>...</td>\n",
       "      <td>...</td>\n",
       "      <td>...</td>\n",
       "      <td>...</td>\n",
       "      <td>...</td>\n",
       "    </tr>\n",
       "    <tr>\n",
       "      <th>2021-12-27</th>\n",
       "      <td>3174.149902</td>\n",
       "      <td>3122.000000</td>\n",
       "      <td>3145.000000</td>\n",
       "      <td>3154.100098</td>\n",
       "      <td>94069.0</td>\n",
       "      <td>3039.926025</td>\n",
       "      <td>0.906025</td>\n",
       "    </tr>\n",
       "    <tr>\n",
       "      <th>2021-12-28</th>\n",
       "      <td>3187.550049</td>\n",
       "      <td>3150.000000</td>\n",
       "      <td>3161.199951</td>\n",
       "      <td>3176.050049</td>\n",
       "      <td>214640.0</td>\n",
       "      <td>3061.081543</td>\n",
       "      <td>0.912330</td>\n",
       "    </tr>\n",
       "    <tr>\n",
       "      <th>2021-12-29</th>\n",
       "      <td>3269.000000</td>\n",
       "      <td>3152.050049</td>\n",
       "      <td>3188.750000</td>\n",
       "      <td>3262.500000</td>\n",
       "      <td>563709.0</td>\n",
       "      <td>3144.402100</td>\n",
       "      <td>0.937163</td>\n",
       "    </tr>\n",
       "    <tr>\n",
       "      <th>2021-12-30</th>\n",
       "      <td>3279.149902</td>\n",
       "      <td>3187.000000</td>\n",
       "      <td>3278.000000</td>\n",
       "      <td>3200.800049</td>\n",
       "      <td>594987.0</td>\n",
       "      <td>3084.935547</td>\n",
       "      <td>0.919440</td>\n",
       "    </tr>\n",
       "    <tr>\n",
       "      <th>2021-12-31</th>\n",
       "      <td>3264.699951</td>\n",
       "      <td>3217.000000</td>\n",
       "      <td>3230.000000</td>\n",
       "      <td>3249.250000</td>\n",
       "      <td>248103.0</td>\n",
       "      <td>3131.631592</td>\n",
       "      <td>0.933357</td>\n",
       "    </tr>\n",
       "  </tbody>\n",
       "</table>\n",
       "<p>248 rows × 7 columns</p>\n",
       "</div>"
      ],
      "text/plain": [
       "                   High          Low         Open        Close    Volume  \\\n",
       "Date                                                                       \n",
       "2021-01-01  3494.000000  3446.000000  3446.000000  3481.250000  421643.0   \n",
       "2021-01-04  3528.000000  3465.000000  3490.000000  3522.449951  647829.0   \n",
       "2021-01-05  3505.000000  3475.000000  3500.250000  3492.649902  561562.0   \n",
       "2021-01-06  3527.000000  3435.899902  3492.649902  3462.699951  591620.0   \n",
       "2021-01-07  3507.350098  3428.250000  3500.000000  3437.949951  531361.0   \n",
       "...                 ...          ...          ...          ...       ...   \n",
       "2021-12-27  3174.149902  3122.000000  3145.000000  3154.100098   94069.0   \n",
       "2021-12-28  3187.550049  3150.000000  3161.199951  3176.050049  214640.0   \n",
       "2021-12-29  3269.000000  3152.050049  3188.750000  3262.500000  563709.0   \n",
       "2021-12-30  3279.149902  3187.000000  3278.000000  3200.800049  594987.0   \n",
       "2021-12-31  3264.699951  3217.000000  3230.000000  3249.250000  248103.0   \n",
       "\n",
       "              Adj Close      Cumu  \n",
       "Date                               \n",
       "2021-01-01  3243.078613  1.000000  \n",
       "2021-01-04  3281.459961  1.011835  \n",
       "2021-01-05  3253.698730  1.003275  \n",
       "2021-01-06  3225.797852  0.994671  \n",
       "2021-01-07  3202.741211  0.987562  \n",
       "...                 ...       ...  \n",
       "2021-12-27  3039.926025  0.906025  \n",
       "2021-12-28  3061.081543  0.912330  \n",
       "2021-12-29  3144.402100  0.937163  \n",
       "2021-12-30  3084.935547  0.919440  \n",
       "2021-12-31  3131.631592  0.933357  \n",
       "\n",
       "[248 rows x 7 columns]"
      ]
     },
     "execution_count": 7,
     "metadata": {},
     "output_type": "execute_result"
    }
   ],
   "source": [
    "df1"
   ]
  },
  {
   "cell_type": "code",
   "execution_count": 8,
   "id": "becad337",
   "metadata": {},
   "outputs": [
    {
     "data": {
      "text/plain": [
       "<matplotlib.legend.Legend at 0x2641ce90160>"
      ]
     },
     "execution_count": 8,
     "metadata": {},
     "output_type": "execute_result"
    },
    {
     "data": {
      "image/png": "[encoded data removed]",
      "text/plain": [
       "<Figure size 720x576 with 1 Axes>"
      ]
     },
     "metadata": {
      "needs_background": "light"
     },
     "output_type": "display_data"
    }
   ],
   "source": [
    "df1['Cumu'].plot(label = 'Bajaj', figsize=(10,8))\n",
    "df2['Cumu'].plot(label = 'Nifty')\n",
    "plt.legend()"
   ]
  },
  {
   "cell_type": "code",
   "execution_count": 9,
   "id": "01a114b2",
   "metadata": {},
   "outputs": [
    {
     "data": {
      "text/plain": [
       "<matplotlib.collections.PathCollection at 0x2643e0e1f90>"
      ]
     },
     "execution_count": 9,
     "metadata": {},
     "output_type": "execute_result"
    },
    {
     "data": {
      "image/png": "[encoded data removed]",
      "text/plain": [
       "<Figure size 432x288 with 1 Axes>"
      ]
     },
     "metadata": {
      "needs_background": "light"
     },
     "output_type": "display_data"
    }
   ],
   "source": [
    "df1['daily_ret'] = df1['Close'].pct_change(1)\n",
    "df2['daily_ret'] = df2['Close'].pct_change(1)\n",
    "plt.scatter(df1['daily_ret'],df2['daily_ret'])"
   ]
  },
  {
   "cell_type": "code",
   "execution_count": 10,
   "id": "170ab26c",
   "metadata": {},
   "outputs": [],
   "source": [
    "LR = stats.linregress(df1['daily_ret'].iloc[1:],df2['daily_ret'].iloc[1:])"
   ]
  },
  {
   "cell_type": "code",
   "execution_count": 11,
   "id": "524e8c84",
   "metadata": {},
   "outputs": [
    {
     "data": {
      "text/plain": [
       "LinregressResult(slope=0.27385776221066616, intercept=0.0009568021412857251, rvalue=0.4325599174929512, pvalue=1.1029472727242061e-12, stderr=0.03646801644229375, intercept_stderr=0.0005679889271025377)"
      ]
     },
     "execution_count": 11,
     "metadata": {},
     "output_type": "execute_result"
    }
   ],
   "source": [
    "LR"
   ]
  },
  {
   "cell_type": "code",
   "execution_count": 12,
   "id": "ccf285a6",
   "metadata": {},
   "outputs": [],
   "source": [
    "beta,alpha,r_val,p_val,std_err = LR"
   ]
  },
  {
   "cell_type": "code",
   "execution_count": 13,
   "id": "aa0b4ee8",
   "metadata": {},
   "outputs": [
    {
     "data": {
      "text/plain": [
       "0.27385776221066616"
      ]
     },
     "execution_count": 13,
     "metadata": {},
     "output_type": "execute_result"
    }
   ],
   "source": [
    "beta"
   ]
  },
  {
   "cell_type": "code",
   "execution_count": 14,
   "id": "9f8b6dbd",
   "metadata": {},
   "outputs": [
    {
     "data": {
      "text/plain": [
       "0.0009568021412857251"
      ]
     },
     "execution_count": 14,
     "metadata": {},
     "output_type": "execute_result"
    }
   ],
   "source": [
    "alpha"
   ]
  },
  {
   "cell_type": "code",
   "execution_count": 15,
   "id": "514c93a5",
   "metadata": {},
   "outputs": [],
   "source": [
    "rm= df1['daily_ret'].mean()*252"
   ]
  },
  {
   "cell_type": "code",
   "execution_count": 16,
   "id": "83011d77",
   "metadata": {},
   "outputs": [
    {
     "data": {
      "text/plain": [
       "-0.04014899228295591"
      ]
     },
     "execution_count": 16,
     "metadata": {},
     "output_type": "execute_result"
    }
   ],
   "source": [
    "rm"
   ]
  },
  {
   "cell_type": "code",
   "execution_count": 17,
   "id": "f8a980fc",
   "metadata": {},
   "outputs": [
    {
     "data": {
      "text/html": [
       "<div>\n",
       "<style scoped>\n",
       "    .dataframe tbody tr th:only-of-type {\n",
       "        vertical-align: middle;\n",
       "    }\n",
       "\n",
       "    .dataframe tbody tr th {\n",
       "        vertical-align: top;\n",
       "    }\n",
       "\n",
       "    .dataframe thead th {\n",
       "        text-align: right;\n",
       "    }\n",
       "</style>\n",
       "<table border=\"1\" class=\"dataframe\">\n",
       "  <thead>\n",
       "    <tr style=\"text-align: right;\">\n",
       "      <th></th>\n",
       "      <th>High</th>\n",
       "      <th>Low</th>\n",
       "      <th>Open</th>\n",
       "      <th>Close</th>\n",
       "      <th>Volume</th>\n",
       "      <th>Adj Close</th>\n",
       "    </tr>\n",
       "    <tr>\n",
       "      <th>Date</th>\n",
       "      <th></th>\n",
       "      <th></th>\n",
       "      <th></th>\n",
       "      <th></th>\n",
       "      <th></th>\n",
       "      <th></th>\n",
       "    </tr>\n",
       "  </thead>\n",
       "  <tbody>\n",
       "    <tr>\n",
       "      <th>2022-05-11</th>\n",
       "      <td>3627.949951</td>\n",
       "      <td>3537.300049</td>\n",
       "      <td>3600</td>\n",
       "      <td>3612.850098</td>\n",
       "      <td>437746</td>\n",
       "      <td>3482.069824</td>\n",
       "    </tr>\n",
       "  </tbody>\n",
       "</table>\n",
       "</div>"
      ],
      "text/plain": [
       "                   High          Low  Open        Close  Volume    Adj Close\n",
       "Date                                                                        \n",
       "2022-05-11  3627.949951  3537.300049  3600  3612.850098  437746  3482.069824"
      ]
     },
     "execution_count": 17,
     "metadata": {},
     "output_type": "execute_result"
    }
   ],
   "source": [
    "date = datetime.date(2022, 5, 11)\n",
    "df11 = web.DataReader('BAJAJ-AUTO.NS', 'yahoo', date, date)\n",
    "df11"
   ]
  },
  {
   "cell_type": "code",
   "execution_count": 18,
   "id": "ef009f81",
   "metadata": {},
   "outputs": [],
   "source": [
    "creturn = 1 + beta*(df1.iloc[-1].at[\"Cumu\"] - 1)"
   ]
  },
  {
   "cell_type": "code",
   "execution_count": 19,
   "id": "907e726d",
   "metadata": {},
   "outputs": [
    {
     "data": {
      "text/plain": [
       "0.9817493713945065"
      ]
     },
     "execution_count": 19,
     "metadata": {},
     "output_type": "execute_result"
    }
   ],
   "source": [
    "creturn"
   ]
  },
  {
   "cell_type": "code",
   "execution_count": 20,
   "id": "82856e73",
   "metadata": {},
   "outputs": [],
   "source": [
    "rreturn = (df11.iloc[0].at[\"Close\"])/(df1.iloc[0].at[\"Close\"])"
   ]
  },
  {
   "cell_type": "code",
   "execution_count": 21,
   "id": "c0d551c4",
   "metadata": {},
   "outputs": [
    {
     "data": {
      "text/plain": [
       "1.0378025415170558"
      ]
     },
     "execution_count": 21,
     "metadata": {},
     "output_type": "execute_result"
    }
   ],
   "source": [
    "rreturn"
   ]
  },
  {
   "cell_type": "code",
   "execution_count": 22,
   "id": "39e2e1c3",
   "metadata": {},
   "outputs": [
    {
     "data": {
      "text/plain": [
       "0.05605317012254929"
      ]
     },
     "execution_count": 22,
     "metadata": {},
     "output_type": "execute_result"
    }
   ],
   "source": [
    "cerror = rreturn - creturn\n",
    "cerror"
   ]
  },
  {
   "cell_type": "code",
   "execution_count": 23,
   "id": "2df15865",
   "metadata": {},
   "outputs": [
    {
     "data": {
      "text/plain": [
       "5.401140186129337"
      ]
     },
     "execution_count": 23,
     "metadata": {},
     "output_type": "execute_result"
    }
   ],
   "source": [
    "cperror = (cerror/rreturn)*100\n",
    "cperror"
   ]
  },
  {
   "cell_type": "code",
   "execution_count": 24,
   "id": "8ebf9336",
   "metadata": {},
   "outputs": [],
   "source": [
    "SMB = 0.17\n",
    "HML = 0.15"
   ]
  },
  {
   "cell_type": "code",
   "execution_count": 25,
   "id": "b805659b",
   "metadata": {},
   "outputs": [],
   "source": [
    "freturn = 1 + alpha + beta*(df1.iloc[-1].at[\"Cumu\"] - 1) + beta*SMB + beta*HML"
   ]
  },
  {
   "cell_type": "code",
   "execution_count": 26,
   "id": "4eac0ba1",
   "metadata": {},
   "outputs": [
    {
     "data": {
      "text/plain": [
       "1.0703406574432055"
      ]
     },
     "execution_count": 26,
     "metadata": {},
     "output_type": "execute_result"
    }
   ],
   "source": [
    "freturn"
   ]
  },
  {
   "cell_type": "code",
   "execution_count": 27,
   "id": "6c59f4a3",
   "metadata": {},
   "outputs": [
    {
     "data": {
      "text/plain": [
       "0.03253811592614975"
      ]
     },
     "execution_count": 27,
     "metadata": {},
     "output_type": "execute_result"
    }
   ],
   "source": [
    "ferror = abs(freturn - rreturn)\n",
    "ferror"
   ]
  },
  {
   "cell_type": "code",
   "execution_count": 28,
   "id": "85da7390",
   "metadata": {},
   "outputs": [
    {
     "data": {
      "text/plain": [
       "3.13528967452572"
      ]
     },
     "execution_count": 28,
     "metadata": {},
     "output_type": "execute_result"
    }
   ],
   "source": [
    "fperror = (ferror/rreturn)*100\n",
    "fperror"
   ]
  }
 ],
 "metadata": {
  "interpreter": {
   "hash": "76d7c06053c3456e5600312cec90888656fc0ed30c03d8425b9dac6e4fc8e014"
  },
  "kernelspec": {
   "display_name": "Python 3 (ipykernel)",
   "language": "python",
   "name": "python3"
  },
  "language_info": {
   "codemirror_mode": {
    "name": "ipython",
    "version": 3
   },
   "file_extension": ".py",
   "mimetype": "text/x-python",
   "name": "python",
   "nbconvert_exporter": "python",
   "pygments_lexer": "ipython3",
   "version": "3.10.4"
  }
 },
 "nbformat": 4,
 "nbformat_minor": 5
}
